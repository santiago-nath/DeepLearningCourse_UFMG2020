{
  "nbformat": 4,
  "nbformat_minor": 0,
  "metadata": {
    "accelerator": "GPU",
    "colab": {
      "name": "MLP_Classification_Olivetti_EXERC001.ipynb",
      "provenance": [],
      "collapsed_sections": []
    },
    "kernelspec": {
      "display_name": "Python 3",
      "language": "python",
      "name": "python3"
    },
    "language_info": {
      "codemirror_mode": {
        "name": "ipython",
        "version": 3
      },
      "file_extension": ".py",
      "mimetype": "text/x-python",
      "name": "python",
      "nbconvert_exporter": "python",
      "pygments_lexer": "ipython3",
      "version": "3.7.4"
    }
  },
  "cells": [
    {
      "cell_type": "markdown",
      "metadata": {
        "colab_type": "text",
        "id": "Il7H73VGJ2No"
      },
      "source": [
        "# Training Procedure\n",
        "\n",
        "Imports básicos."
      ]
    },
    {
      "cell_type": "code",
      "metadata": {
        "id": "5LaoPWO9RhEq",
        "colab_type": "code",
        "colab": {}
      },
      "source": [
        "import os\n",
        "import numpy as np\n",
        "import torch\n",
        "\n",
        "import PIL\n",
        "\n",
        "from sklearn import datasets\n",
        "\n",
        "from skimage import io"
      ],
      "execution_count": 0,
      "outputs": []
    },
    {
      "cell_type": "markdown",
      "metadata": {
        "colab_type": "text",
        "id": "5yNikfN0J2Np"
      },
      "source": [
        "## Setting data loader\n",
        "\n",
        "Criando um dataloader customizado para o dataset Olivetti. Para mais informações sobre o dataset, acesse a página: <https://scikit-learn.org/0.19/modules/generated/sklearn.datasets.fetch_olivetti_faces.html#sklearn.datasets.fetch_olivetti_faces>."
      ]
    },
    {
      "cell_type": "code",
      "metadata": {
        "colab_type": "code",
        "id": "YKPo231vJ2Nq",
        "colab": {
          "base_uri": "https://localhost:8080/",
          "height": 361
        },
        "outputId": "ec26df3d-005e-40fa-b14e-762b42e2e184"
      },
      "source": [
        "from torch.utils.data import DataLoader\n",
        "from torch.utils import data\n",
        "\n",
        "from matplotlib import pyplot as plt\n",
        "\n",
        "%matplotlib inline\n",
        "\n",
        "# Creating custom dataloader.\n",
        "class CustomDataset(data.Dataset):\n",
        "\n",
        "    def __init__(self, mode):\n",
        "        \n",
        "        super(CustomDataset, self).__init__()\n",
        "        \n",
        "        # Initializing variables.\n",
        "        self.mode = mode\n",
        "\n",
        "        # Creating dataset from sklean.\n",
        "        self.make_dataset()\n",
        "\n",
        "    def make_dataset(self):\n",
        "\n",
        "        # Downloading (if needed) dataset and getting features/labels.\n",
        "        faces = datasets.fetch_olivetti_faces(data_home='./',\n",
        "                                              download_if_missing=True,\n",
        "                                              return_X_y=False)\n",
        "\n",
        "        # Dividing between training and testing sets.\n",
        "        np.random.seed(1234) # Setting random seed for numpy.\n",
        "        perm = np.random.permutation(faces.data.shape[0])\n",
        "\n",
        "        if self.mode == 'train':\n",
        "            \n",
        "            # Slicing training data/labels.\n",
        "            self.X = faces.data[perm[:int(0.8 * perm.shape[0])]] # Perm.\n",
        "            self.Y = faces.target[perm[:int(0.8 * perm.shape[0])]] # Perm.\n",
        "            # self.X = faces.data[:int(0.8 * perm.shape[0])] # No perm.\n",
        "            # self.Y = faces.target[:int(0.8 * perm.shape[0])] # No perm.\n",
        "            \n",
        "            # Computing average and standard deviation from training set.\n",
        "            self.avg = self.X.mean()\n",
        "            self.std = self.X.std()\n",
        "            \n",
        "            # Printing dataset size.\n",
        "            print('Training features: ' + str(self.X.shape))\n",
        "            print('Training labels: ' + str(self.Y.shape))\n",
        "\n",
        "        elif self.mode == 'test':\n",
        "            \n",
        "            # Slicing training data/labels (for computing avg and std).\n",
        "            X_train = faces.data[perm[:int(0.8 * perm.shape[0])]] # Perm.\n",
        "            Y_train = faces.target[perm[:int(0.8 * perm.shape[0])]] # Perm.\n",
        "            # X_train = faces.data[:int(0.8 * perm.shape[0])] # No perm.\n",
        "            # Y_train = faces.target[:int(0.8 * perm.shape[0])] # No perm.\n",
        "            \n",
        "            # Computing average and standard deviation from training set.\n",
        "            self.avg = X_train.mean()\n",
        "            self.std = X_train.std()\n",
        "            \n",
        "            # Slicing test data/labels.\n",
        "            self.X = faces.data[perm[int(0.8 * perm.shape[0]):]] # Perm.\n",
        "            self.Y = faces.target[perm[int(0.8 * perm.shape[0]):]] # Perm.\n",
        "            # self.X = faces.data[int(0.8 * perm.shape[0]):] # No perm.\n",
        "            # self.Y = faces.target[int(0.8 * perm.shape[0]):] # No perm.\n",
        "            \n",
        "            # Printing dataset size.\n",
        "            print('Test features: ' + str(self.X.shape))\n",
        "            print('Test labels: ' + str(self.Y.shape))\n",
        "\n",
        "    def __getitem__(self, index):\n",
        "        \n",
        "        # Recovering sample and label according to index.\n",
        "        data = self.X[index]\n",
        "        label = self.Y[index]\n",
        "        \n",
        "        # Normalizing data.\n",
        "        data = (data - self.avg) / self.std\n",
        "        \n",
        "        # Turning data to Pytorch tensors.\n",
        "        data = torch.from_numpy(data.astype(np.float32))\n",
        "        label = torch.from_numpy(np.asarray(label, dtype=np.long))\n",
        "        \n",
        "        # Returning data and label to iterator.\n",
        "        return data, label\n",
        "\n",
        "    def __len__(self):\n",
        "\n",
        "        return self.X.shape[0]\n",
        "\n",
        "# Instancing training and testing sets.\n",
        "train_set = CustomDataset('train')\n",
        "test_set = CustomDataset('test')\n",
        "\n",
        "# Printing/plotting samples.\n",
        "print(train_set[0])\n",
        "print(test_set[0])\n",
        "\n",
        "fig, ax = plt.subplots(1, 2, figsize=(8, 4))\n",
        "\n",
        "ax[0].imshow(train_set[0][0].reshape(64, 64))\n",
        "ax[0].set_yticks([])\n",
        "ax[0].set_xticks([])\n",
        "\n",
        "ax[1].imshow(test_set[0][0].reshape(64, 64))\n",
        "ax[1].set_yticks([])\n",
        "ax[1].set_xticks([])\n",
        "\n",
        "plt.show()"
      ],
      "execution_count": 2,
      "outputs": [
        {
          "output_type": "stream",
          "text": [
            "downloading Olivetti faces from https://ndownloader.figshare.com/files/5976027 to ./\n",
            "Training features: (320, 4096)\n",
            "Training labels: (320,)\n",
            "Test features: (80, 4096)\n",
            "Test labels: (80,)\n",
            "(tensor([-0.2288, -0.2288, -0.2288,  ...,  0.3178,  0.2703,  0.2941]), tensor(4))\n",
            "(tensor([-0.2763, -0.0149,  0.1990,  ..., -2.1300, -2.1538, -2.1538]), tensor(0))\n"
          ],
          "name": "stdout"
        },
        {
          "output_type": "display_data",
          "data": {
            "image/png": "[encoded data removed]",
            "text/plain": [
              "<Figure size 576x288 with 2 Axes>"
            ]
          },
          "metadata": {
            "tags": []
          }
        }
      ]
    },
    {
      "cell_type": "code",
      "metadata": {
        "id": "QrMULqqYShdC",
        "colab_type": "code",
        "colab": {
          "base_uri": "https://localhost:8080/",
          "height": 52
        },
        "outputId": "4e670d49-7c6d-431f-a812-98663f20b9a6"
      },
      "source": [
        "# Creating data loaders.\n",
        "batch_size = 1000\n",
        "\n",
        "train_loader = DataLoader(train_set, batch_size, shuffle=True)\n",
        "test_loader = DataLoader(test_set, batch_size, shuffle=False)\n",
        "\n",
        "for i, data in enumerate(train_loader):\n",
        "    \n",
        "    inps, labs = data\n",
        "    print(inps.size(), labs.size())\n",
        "    print('')\n",
        "\n",
        "    if i > 5:\n",
        "        break"
      ],
      "execution_count": 3,
      "outputs": [
        {
          "output_type": "stream",
          "text": [
            "torch.Size([320, 4096]) torch.Size([320])\n",
            "\n"
          ],
          "name": "stdout"
        }
      ]
    },
    {
      "cell_type": "markdown",
      "metadata": {
        "colab_type": "text",
        "id": "EGtnadiqJ2Nu"
      },
      "source": [
        "## Setting architecture\n",
        "\n",
        "Defina a arquitetura da sua Rede Neural. O pacote torch.nn que contém as implementações de todas as camadas que serão usadas nessa parte (nn.Linear): <https://pytorch.org/docs/stable/nn.html>."
      ]
    },
    {
      "cell_type": "code",
      "metadata": {
        "colab_type": "code",
        "id": "P4oFGFAKJ2Nv",
        "colab": {
          "base_uri": "https://localhost:8080/",
          "height": 70
        },
        "outputId": "c3bd4333-9fec-4b15-f851-16285bf0a71b"
      },
      "source": [
        "import torch.nn as nn\n",
        "\n",
        "# Random initialization for weights and biases.\n",
        "def initialize_weights(*models):\n",
        "    for model in models:\n",
        "        for module in model.modules():\n",
        "            if isinstance(module, nn.Conv2d) or isinstance(module, nn.Linear):\n",
        "                nn.init.kaiming_normal_(module.weight)\n",
        "                if module.bias is not None:\n",
        "                    module.bias.data.zero_()\n",
        "            elif isinstance(module, nn.BatchNorm2d):\n",
        "                module.weight.data.fill_(1)\n",
        "                module.bias.data.zero_()\n",
        "\n",
        "# Customized Network.\n",
        "class CustomNetwork(nn.Module):\n",
        "    \n",
        "    def __init__(self, input_size, n_classes):\n",
        "\n",
        "        super(CustomNetwork, self).__init__()\n",
        "        \n",
        "        '''\n",
        "        Exercício 1.1: crie uma Rede Neural totalmente conectada com 1 camada\n",
        "        escondida que faça classificação das amostras do dataset Olivetti. \n",
        "        Essa camada escondida deve receber o tamanho input_size (4096 para o\n",
        "        Olivetti) e gerar n_classes de saída (40 para o Olivetti).\n",
        "        '''\n",
        "        ###################################################\n",
        "        # Neural Network architecture. 1 hidden layer. ####\n",
        "        ###################################################\n",
        "        self.n_outputs_1 = n_classes # n classes de saída\n",
        "\n",
        "        self.layer1 = nn.Linear(input_size, self.n_outputs_1) # Fully Connected Layer: 4096 -> 40\n",
        "        # One hidden layer\n",
        "\n",
        "        '''\n",
        "        Exercício 5.1: expanda sua Rede Neural totalmente conectada para que ela\n",
        "        tenha uma capacidade maior (mais parâmetros). Sua rede deve ter entre 2\n",
        "        e 4 camadas escondidas e ir diminuindo o número de features\n",
        "        progressivamente ao longo essas camadas. Cada camada intermediária deve\n",
        "        receber o output da última camada. A primeira camada deve receber\n",
        "        input_size features e a última camada deve gerar n_classes features que\n",
        "        farão as predições entre as classes do Olivetti. Adicione ativações ReLU\n",
        "        após todas as camadas nn.Linear, menos na última, que não deve ter\n",
        "        nenhuma ativação.\n",
        "        '''\n",
        "        # ###################################################\n",
        "        # # Neural Network architecture. 2~4 hidden layers. #\n",
        "        # ###################################################\n",
        "        # self.n_outputs_1 = 1000\n",
        "        # self.n_outputs_2 = 500\n",
        "        # self.n_outputs_3 = 100\n",
        "\n",
        "        # self.drop = nn.Dropout()                                    # Reusable Dropout regularization layer.\n",
        "\n",
        "        # self.layer1 = nn.Linear(input_size, self.n_outputs_1)       # Criar primeira camada linear. Fully Connected Layer: 4096 -> 1000.\n",
        "        # self.ativ1 = nn.ReLU(inplace = True)                        # Criar ativação da primeira camada - ReLU\n",
        "        \n",
        "        # self.layer2 = nn.Linear(self.n_outputs_1, self.n_outputs_2) # Fully Connected Layer: 1000 -> 500.\n",
        "        # self.ativ2 = nn.ReLU(inplace=True)                          # ReLU Activation Layer.\n",
        "        \n",
        "        # self.layer3 = nn.Linear(self.n_outputs_2, self.n_outputs_3) # Fully Connected Layer: 500 -> 100.\n",
        "        # self.ativ3 = nn.ReLU(inplace=True)                          # ReLU Activation Layer.\n",
        "        \n",
        "        # self.layer4 = nn.Linear(self.n_outputs_3, n_classes)        # Fully Connected Layer: 100 -> 40.\n",
        "\n",
        "    # Forward function.\n",
        "    def forward(self, x):\n",
        "\n",
        "        '''\n",
        "        Exercício 1.2: Alimente os dados para a camada da sua rede. Para\n",
        "        alimentar um dado x para uma certa camada self.camada_n:\n",
        "        saida = self.camada_n(x).\n",
        "        '''\n",
        "        ###################################################\n",
        "        # Forwarding through the single hidden layer. #####\n",
        "        ###################################################\n",
        "        out = self.layer1(x) # Passar o input x pela camada self.layer1.\n",
        "\n",
        "        '''\n",
        "        Exercício 5.2: Atualize a sua função forward para a nova arquitetura da\n",
        "        sua rede com mais de uma camada.\n",
        "        '''\n",
        "        # ###################################################\n",
        "        # # Forwarding through all layers. ##################\n",
        "        # ###################################################\n",
        "        # out = self.layer1(x)   # Passar o input x sequencialmente pelas camadas da rede.\n",
        "        # out = self.drop(self.ativ1(out))\n",
        "\n",
        "\n",
        "        # out2 = self.layer2(out)   # Camada 2\n",
        "        # out2 = self.drop(self.ativ2(out2))\n",
        "\n",
        "\n",
        "        # out3 = self.layer3(out3)   # Camada 3\n",
        "        # out3 = self.drop(self.ativ3(out3))\n",
        "\n",
        "\n",
        "        # out4 = self.layer4(out3)   # Camada 4\n",
        "\n",
        "\n",
        "\n",
        "        # Returning output.\n",
        "        return out  # Retornar a saída da última camada.\n",
        "        #return out4 # quando utilizar multilayers\n",
        "\n",
        "        \n",
        "# Instancing Network.\n",
        "input_size = 4096 # Input size (number of features).\n",
        "n_classes = 40 # Number of classes.\n",
        "\n",
        "# model = CustomNetwork(input_size) # CPU version.\n",
        "model = CustomNetwork(input_size, n_classes).cuda() # GPU casting.\n",
        "\n",
        "initialize_weights(model)\n",
        "\n",
        "# Printing NN.\n",
        "print(model)"
      ],
      "execution_count": 9,
      "outputs": [
        {
          "output_type": "stream",
          "text": [
            "CustomNetwork(\n",
            "  (layer1): Linear(in_features=4096, out_features=40, bias=True)\n",
            ")\n"
          ],
          "name": "stdout"
        }
      ]
    },
    {
      "cell_type": "markdown",
      "metadata": {
        "colab_type": "text",
        "id": "VOVXXfCiJ2Ny"
      },
      "source": [
        "## Setting optimizer\n",
        "\n",
        "O $Pytorch$ tem várias opções de otimizadores, desde os mais simples como o SGD até adaptadores mais modernos com velocidades de aprendizado adaptáveis para cada parâmetro da rede (i.e. Adam, Adagrad, RSMProp...). Todos os otimizadores estão localizados no pacote torch.optim. Para mais informnações sobre o pacote, visite: <https://pytorch.org/docs/stable/optim.html>."
      ]
    },
    {
      "cell_type": "code",
      "metadata": {
        "colab_type": "code",
        "id": "fhyopppRJ2Nz",
        "colab": {
          "base_uri": "https://localhost:8080/",
          "height": 34
        },
        "outputId": "cf03fe7a-2b6f-49f8-9b8b-d3a1a5d341c3"
      },
      "source": [
        "import torch.optim as optim\n",
        "\n",
        "lr = 0.01 # learning rate - define o 'passo' de otimização\n",
        "l2_normalization = 0.00005 # L2 Normalization via weight decay.\n",
        "\n",
        "'''\n",
        "Exercício 2: defina um otimizador. Comece pelo mais básico: o SGD. Experimente\n",
        "diferentes learning rates para o otimizador e observe como isso afeta a\n",
        "otimização da loss durante o treinamento/teste.\n",
        "'''\n",
        "optimizer = optim.SGD(model.parameters(), lr=lr, weight_decay = l2_normalization) # otimizador SGD\n",
        "\n",
        "\n",
        "'''\n",
        "Exercício 6: utilize um otimizador mais poderoso como o Adam. Note que ele\n",
        "possui parâmetros levemente diferentes do SGD.\n",
        "'''\n",
        "#optimizer = optim.Adam(model.parameters(), lr=lr, weight_decay = l2_normalization, betas)"
      ],
      "execution_count": 5,
      "outputs": [
        {
          "output_type": "execute_result",
          "data": {
            "text/plain": [
              "'\\nExercício 6: utilize um otimizador mais poderoso como o Adam. Note que ele\\npossui parâmetros levemente diferentes do SGD.\\n'"
            ]
          },
          "metadata": {
            "tags": []
          },
          "execution_count": 5
        }
      ]
    },
    {
      "cell_type": "markdown",
      "metadata": {
        "colab_type": "text",
        "id": "MlBTGdzPJ2N1"
      },
      "source": [
        "## Setting loss criterion\n",
        "\n",
        "Definindo um critério (loss) de classificação para calcular o erro do seu modelo a cada batch de amostras. A $CrossEntropyLoss$ ou a $NLLLoss$ são funções de perda indicadas para esse tipo de tarefa. Informações sobre essas losses podem ser encontradas em: <https://pytorch.org/docs/stable/nn.html#loss-functions>. "
      ]
    },
    {
      "cell_type": "code",
      "metadata": {
        "colab_type": "code",
        "id": "H1WirBm_J2N2",
        "colab": {}
      },
      "source": [
        "# Setting classification loss.\n",
        "'''\n",
        "Exercício 3: Defina uma loss function. Lembre-se de fazer o casting da loss para\n",
        "a GPU assim como fizemos na rede.\n",
        "'''\n",
        "criterion = nn.CrossEntropyLoss().cuda() #CrossEntropyLoss, cuda() = GPU\n",
        "#criterion = nn.NLLLoss().cuda() #NLLLoss"
      ],
      "execution_count": 0,
      "outputs": []
    },
    {
      "cell_type": "markdown",
      "metadata": {
        "colab_type": "text",
        "id": "d9uC1yHfJ2N4"
      },
      "source": [
        "## Training/Testing\n",
        "\n",
        "Iterando sobre batches de treino e teste ao longo de várias epochs."
      ]
    },
    {
      "cell_type": "code",
      "metadata": {
        "colab_type": "code",
        "id": "04-4qarbJ2N5",
        "colab": {
          "base_uri": "https://localhost:8080/",
          "height": 1000
        },
        "outputId": "318b1344-4b81-44e8-d1b8-91abbbb2efc0"
      },
      "source": [
        "from matplotlib import pyplot as plt\n",
        "from torch.autograd import Variable\n",
        "\n",
        "%matplotlib inline\n",
        "\n",
        "epochs = 20 # Number of training and testing epochs.\n",
        "\n",
        "training_metrics = list() # List for accuracies in training procedure.\n",
        "test_metrics = list() # List for accuracies in test procedure.\n",
        "\n",
        "# Iterating over epochs.\n",
        "for ep in range(epochs):\n",
        "    \n",
        "    print('##############################################')\n",
        "    print('Starting epoch ' + str(ep + 1) + '/' + str(epochs) + '...')\n",
        "    \n",
        "    #####################################################################\n",
        "    # Training Procedure. ###############################################\n",
        "    #####################################################################\n",
        "    \n",
        "    print('    Training...')\n",
        "    \n",
        "    # Setting model to training mode.\n",
        "    model.train()\n",
        "    \n",
        "    # Iterating over training batches.\n",
        "    for it, data in enumerate(train_loader):\n",
        "\n",
        "        # Obtaining data and labels for batch.\n",
        "        inps, labs = data\n",
        "        \n",
        "        # GPU casting. In CPU version comment the following two lines.\n",
        "        inps = inps.cuda()\n",
        "        labs = labs.cuda()\n",
        "        \n",
        "        # Zeroing optimizer.\n",
        "        optimizer.zero_grad()\n",
        "        \n",
        "        '''\n",
        "        Exercício 4: faça o forward do dado através da rede (de modo parecido\n",
        "        com o que foi feito na função forward). Com os outputs gerados pela\n",
        "        rede, calcule a loss para o mini-batch atual de acordo com o criterion\n",
        "        previamente definido. Lembre-se de fazer a mesma\n",
        "        coisa no procedimento de teste.\n",
        "        '''\n",
        "        # Forwarding inps through NN.\n",
        "        output =  model(inps) #Passar os inputs através da rede.\n",
        "        \n",
        "        # Computing loss according to network prediction for batch and targets.\n",
        "        loss = criterion(output, labs)# Calcular a loss de acordo com o criterion previamente definido.\n",
        "        \n",
        "        # Backpropagating loss.\n",
        "        loss.backward()\n",
        "        \n",
        "        # Taking optimization step (updating NN weights).\n",
        "        optimizer.step()\n",
        "        \n",
        "        # Appending metric for batch.\n",
        "        training_metrics.append(loss.mean())\n",
        "\n",
        "    #####################################################################\n",
        "    # Testing Procedure.  ###############################################\n",
        "    #####################################################################\n",
        "    \n",
        "    print('    Testing...')\n",
        "    \n",
        "    # Setting model to evaluation mode.\n",
        "    model.eval()\n",
        "\n",
        "    with torch.no_grad():\n",
        "\n",
        "        label_list = list()\n",
        "        output_list = list()\n",
        "\n",
        "        # Iterating over test batches.\n",
        "        for it, data in enumerate(test_loader):\n",
        "            \n",
        "            # Obtaining images and labels for batch.\n",
        "            inps, labs = data\n",
        "            \n",
        "            # GPU casting. In CPU version comment the following line.\n",
        "            inps = inps.cuda()\n",
        "            labs = labs.cuda()\n",
        "            \n",
        "            # Forwarding through NN.\n",
        "            output = model(inps) #Passar os inputs através da rede.\n",
        "            \n",
        "            # Computing loss according to network prediction for batch and targets.\n",
        "            loss = criterion(output, labs) # Calcular a loss de acordo com o criterion previamente definido.\n",
        "\n",
        "            # Appending metric for batch.\n",
        "            test_metrics.append(loss.mean())\n",
        "\n",
        "            # Getting labels and predictions from last epoch.\n",
        "            label_list += labs.cpu().numpy().tolist()\n",
        "            output_list += output.max(1)[1].cpu().numpy().tolist()\n",
        "\n",
        "        label_array = np.asarray(label_list, dtype=np.int).ravel()\n",
        "        output_array = np.asarray(output_list, dtype=np.int).ravel()\n",
        "\n",
        "        print('Epoch: %d, Accuracy: %.2f%%' % (ep + 1, 100.0 * np.sum(label_array == output_array) / float(label_array.shape[0])))"
      ],
      "execution_count": 7,
      "outputs": [
        {
          "output_type": "stream",
          "text": [
            "##############################################\n",
            "Starting epoch 1/20...\n",
            "    Training...\n",
            "    Testing...\n",
            "Epoch: 1, Accuracy: 5.00%\n",
            "##############################################\n",
            "Starting epoch 2/20...\n",
            "    Training...\n",
            "    Testing...\n",
            "Epoch: 2, Accuracy: 3.75%\n",
            "##############################################\n",
            "Starting epoch 3/20...\n",
            "    Training...\n",
            "    Testing...\n",
            "Epoch: 3, Accuracy: 6.25%\n",
            "##############################################\n",
            "Starting epoch 4/20...\n",
            "    Training...\n",
            "    Testing...\n",
            "Epoch: 4, Accuracy: 8.75%\n",
            "##############################################\n",
            "Starting epoch 5/20...\n",
            "    Training...\n",
            "    Testing...\n",
            "Epoch: 5, Accuracy: 11.25%\n",
            "##############################################\n",
            "Starting epoch 6/20...\n",
            "    Training...\n",
            "    Testing...\n",
            "Epoch: 6, Accuracy: 15.00%\n",
            "##############################################\n",
            "Starting epoch 7/20...\n",
            "    Training...\n",
            "    Testing...\n",
            "Epoch: 7, Accuracy: 20.00%\n",
            "##############################################\n",
            "Starting epoch 8/20...\n",
            "    Training...\n",
            "    Testing...\n",
            "Epoch: 8, Accuracy: 22.50%\n",
            "##############################################\n",
            "Starting epoch 9/20...\n",
            "    Training...\n",
            "    Testing...\n",
            "Epoch: 9, Accuracy: 31.25%\n",
            "##############################################\n",
            "Starting epoch 10/20...\n",
            "    Training...\n",
            "    Testing...\n",
            "Epoch: 10, Accuracy: 40.00%\n",
            "##############################################\n",
            "Starting epoch 11/20...\n",
            "    Training...\n",
            "    Testing...\n",
            "Epoch: 11, Accuracy: 45.00%\n",
            "##############################################\n",
            "Starting epoch 12/20...\n",
            "    Training...\n",
            "    Testing...\n",
            "Epoch: 12, Accuracy: 46.25%\n",
            "##############################################\n",
            "Starting epoch 13/20...\n",
            "    Training...\n",
            "    Testing...\n",
            "Epoch: 13, Accuracy: 50.00%\n",
            "##############################################\n",
            "Starting epoch 14/20...\n",
            "    Training...\n",
            "    Testing...\n",
            "Epoch: 14, Accuracy: 55.00%\n",
            "##############################################\n",
            "Starting epoch 15/20...\n",
            "    Training...\n",
            "    Testing...\n",
            "Epoch: 15, Accuracy: 57.50%\n",
            "##############################################\n",
            "Starting epoch 16/20...\n",
            "    Training...\n",
            "    Testing...\n",
            "Epoch: 16, Accuracy: 58.75%\n",
            "##############################################\n",
            "Starting epoch 17/20...\n",
            "    Training...\n",
            "    Testing...\n",
            "Epoch: 17, Accuracy: 66.25%\n",
            "##############################################\n",
            "Starting epoch 18/20...\n",
            "    Training...\n",
            "    Testing...\n",
            "Epoch: 18, Accuracy: 66.25%\n",
            "##############################################\n",
            "Starting epoch 19/20...\n",
            "    Training...\n",
            "    Testing...\n",
            "Epoch: 19, Accuracy: 67.50%\n",
            "##############################################\n",
            "Starting epoch 20/20...\n",
            "    Training...\n",
            "    Testing...\n",
            "Epoch: 20, Accuracy: 67.50%\n"
          ],
          "name": "stdout"
        }
      ]
    },
    {
      "cell_type": "code",
      "metadata": {
        "id": "t8iWQH_grcP-",
        "colab_type": "code",
        "colab": {
          "base_uri": "https://localhost:8080/",
          "height": 694
        },
        "outputId": "4dc82193-a5d0-4692-fc7e-5e539451c2eb"
      },
      "source": [
        "# Transforming list into ndarray for plotting.\n",
        "training_array = np.asarray(training_metrics, dtype=np.float32)\n",
        "test_array = np.asarray(test_metrics, dtype=np.float32)\n",
        "\n",
        "# Plotting error metric.\n",
        "fig, ax = plt.subplots(1, 2, figsize = (16, 8), sharex=False, sharey=True)\n",
        "\n",
        "ax[0].plot(training_array)\n",
        "ax[0].set_xlabel('Training Loss Progression')\n",
        "\n",
        "ax[1].plot(test_array)\n",
        "ax[1].set_xlabel('Test Loss Progression')\n",
        "\n",
        "plt.show()\n",
        "\n",
        "for i in range(10):\n",
        "    print('Actual: %.4f, Predicted: %.4f' % (label_array[i], output_array[i]))"
      ],
      "execution_count": 8,
      "outputs": [
        {
          "output_type": "display_data",
          "data": {
            "image/png": "[encoded data removed]",
            "text/plain": [
              "<Figure size 1152x576 with 2 Axes>"
            ]
          },
          "metadata": {
            "tags": []
          }
        },
        {
          "output_type": "stream",
          "text": [
            "Actual: 0.0000, Predicted: 0.0000\n",
            "Actual: 28.0000, Predicted: 28.0000\n",
            "Actual: 1.0000, Predicted: 1.0000\n",
            "Actual: 3.0000, Predicted: 17.0000\n",
            "Actual: 17.0000, Predicted: 17.0000\n",
            "Actual: 24.0000, Predicted: 24.0000\n",
            "Actual: 4.0000, Predicted: 34.0000\n",
            "Actual: 23.0000, Predicted: 23.0000\n",
            "Actual: 36.0000, Predicted: 36.0000\n",
            "Actual: 13.0000, Predicted: 13.0000\n"
          ],
          "name": "stdout"
        }
      ]
    }
  ]
}